{
  "nbformat": 4,
  "nbformat_minor": 0,
  "metadata": {
    "colab": {
      "provenance": [],
      "authorship_tag": "ABX9TyOx1Vg1I5v34ILdmtgyIFq2",
      "include_colab_link": true
    },
    "kernelspec": {
      "name": "python3",
      "display_name": "Python 3"
    },
    "language_info": {
      "name": "python"
    }
  },
  "cells": [
    {
      "cell_type": "markdown",
      "metadata": {
        "id": "view-in-github",
        "colab_type": "text"
      },
      "source": [
        "<a href=\"https://colab.research.google.com/github/Cullen-hub/Project-demographic-data-analyser/blob/main/Demographic_Data_Analysis_For_Collab.ipynb\" target=\"_parent\"><img src=\"https://colab.research.google.com/assets/colab-badge.svg\" alt=\"Open In Colab\"/></a>"
      ]
    },
    {
      "cell_type": "code",
      "execution_count": 2,
      "metadata": {
        "colab": {
          "base_uri": "https://localhost:8080/"
        },
        "id": "52uKZOHbZmy-",
        "outputId": "e43feacc-9d96-4551-e379-6965e16628b4"
      },
      "outputs": [
        {
          "output_type": "stream",
          "name": "stdout",
          "text": [
            "Cloning into 'Project-demographic-data-analyser'...\n",
            "remote: Enumerating objects: 53, done.\u001b[K\n",
            "remote: Counting objects: 100% (28/28), done.\u001b[K\n",
            "remote: Compressing objects: 100% (17/17), done.\u001b[K\n",
            "remote: Total 53 (delta 17), reused 11 (delta 11), pack-reused 25 (from 1)\u001b[K\n",
            "Receiving objects: 100% (53/53), 432.32 KiB | 3.20 MiB/s, done.\n",
            "Resolving deltas: 100% (20/20), done.\n",
            "/content/Project-demographic-data-analyser\n"
          ]
        }
      ],
      "source": [
        "!git clone https://github.com/Cullen-hub/Project-demographic-data-analyser.git\n",
        "%cd Project-demographic-data-analyser"
      ]
    },
    {
      "cell_type": "code",
      "source": [
        "#%%writefile demographic_data_analyzer.py\n",
        "%%writefile /content/Project-demographic-data-analyser/demographic_data_analyzer.py\n",
        "import pandas as pd\n",
        "\n",
        "\n",
        "def calculate_demographic_data(print_data=True):\n",
        "    # Read data from file\n",
        "    df = pd.read_csv('adult.data.csv')\n",
        "\n",
        "    # How many of each race are represented in this dataset? This should be a Pandas series with race names as the index labels.\n",
        "    race_count = df['race'].value_counts()\n",
        "\n",
        "    # What is the average age of men?\n",
        "    average_age_men = (df.groupby('sex')['age'].mean()).loc['Male'].round(1)\n",
        "\n",
        "    # What is the percentage of people who have a Bachelor's degree?\n",
        "    percentage_bachelors = ((df['education'].value_counts().loc['Bachelors']/df['education'].count())*100).round(1)\n",
        "\n",
        "    # What percentage of people with advanced education (`Bachelors`, `Masters`, or `Doctorate`) make more than 50K?\n",
        "    # What percentage of people without advanced education make more than 50K?\n",
        "\n",
        "    # with and without `Bachelors`, `Masters`, or `Doctorate`\n",
        "    higher_education = df[df['education'].isin(['Bachelors','Masters','Doctorate'])]\n",
        "    lower_education = df[~df['education'].isin(['Bachelors','Masters','Doctorate'])]\n",
        "\n",
        "    # percentage with salary >50K\n",
        "    #higher_education_rich = ((higher_education['salary'].value_count().loc['>50']/higher_education['salary'].count())*100).round(1)\n",
        "    #lower_education_rich = ((lower_education['salary'].value_count().loc['>50']/lower_education['salary'].count())*100).round(1)\n",
        "\n",
        "    higher_education_rich = ((higher_education[higher_education['salary'] == '>50K'].count()/higher_education.count())*100).round(1).values[0]\n",
        "    lower_education_rich = ((lower_education[lower_education['salary'] == '>50K'].count()/lower_education.count())*100).round(1).values[0]\n",
        "\n",
        "    # What is the minimum number of hours a person works per week (hours-per-week feature)?\n",
        "    min_work_hours = min(df['hours-per-week'])\n",
        "\n",
        "    # What percentage of the people who work the minimum number of hours per week have a salary of >50K?\n",
        "    num_min_workers = df.loc[df['hours-per-week'] == min_work_hours].value_counts()\n",
        "    rich_percentage = ((df.loc[df['hours-per-week']== min_work_hours]['salary'].value_counts().loc['>50K']/num_min_workers.sum())*100).round(1)\n",
        "\n",
        "    # What country has the highest percentage of people that earn >50K?\n",
        "    highest_earning_country =(((df[df['salary'] == '>50K']['native-country'].value_counts()/df['native-country'].value_counts())*100).round(1)).idxmax()\n",
        "    highest_earning_country_percentage = (((df[df['salary'] == '>50K']['native-country'].value_counts()/df['native-country'].value_counts())*100).round(1)).max()\n",
        "\n",
        "    # Identify the most popular occupation for those who earn >50K in India.\n",
        "    top_IN_occupation = df[(df['native-country'] == 'India') & (df['salary'] == '>50K')]['occupation'].value_counts().idxmax()\n",
        "\n",
        "    # DO NOT MODIFY BELOW THIS LINE\n",
        "\n",
        "    if print_data:\n",
        "        print(\"Number of each race:\\n\", race_count)\n",
        "        print(\"Average age of men:\", average_age_men)\n",
        "        print(f\"Percentage with Bachelors degrees: {percentage_bachelors}%\")\n",
        "        print(f\"Percentage with higher education that earn >50K: {higher_education_rich}%\")\n",
        "        print(f\"Percentage without higher education that earn >50K: {lower_education_rich}%\")\n",
        "        print(f\"Min work time: {min_work_hours} hours/week\")\n",
        "        print(f\"Percentage of rich among those who work fewest hours: {rich_percentage}%\")\n",
        "        print(\"Country with highest percentage of rich:\", highest_earning_country)\n",
        "        print(f\"Highest percentage of rich people in country: {highest_earning_country_percentage}%\")\n",
        "        print(\"Top occupations in India:\", top_IN_occupation)\n",
        "\n",
        "    return {\n",
        "        'race_count': race_count,\n",
        "        'average_age_men': average_age_men,\n",
        "        'percentage_bachelors': percentage_bachelors,\n",
        "        'higher_education_rich': higher_education_rich,\n",
        "        'lower_education_rich': lower_education_rich,\n",
        "        'min_work_hours': min_work_hours,\n",
        "        'rich_percentage': rich_percentage,\n",
        "        'highest_earning_country': highest_earning_country,\n",
        "        'highest_earning_country_percentage':\n",
        "        highest_earning_country_percentage,\n",
        "        'top_IN_occupation': top_IN_occupation\n",
        "    }"
      ],
      "metadata": {
        "colab": {
          "base_uri": "https://localhost:8080/"
        },
        "id": "8hijWZpQb2HK",
        "outputId": "473cb5d3-e0d6-486c-da46-f0c8b0077d90"
      },
      "execution_count": 3,
      "outputs": [
        {
          "output_type": "stream",
          "name": "stdout",
          "text": [
            "Overwriting /content/Project-demographic-data-analyser/demographic_data_analyzer.py\n"
          ]
        }
      ]
    },
    {
      "cell_type": "code",
      "source": [
        "!python main.py"
      ],
      "metadata": {
        "colab": {
          "base_uri": "https://localhost:8080/"
        },
        "id": "b8OtFPL3cLW3",
        "outputId": "372361d3-88fd-4308-8462-150cf64bd170"
      },
      "execution_count": 28,
      "outputs": [
        {
          "output_type": "stream",
          "name": "stdout",
          "text": [
            "Number of each race:\n",
            " race\n",
            "White                 27816\n",
            "Black                  3124\n",
            "Asian-Pac-Islander     1039\n",
            "Amer-Indian-Eskimo      311\n",
            "Other                   271\n",
            "Name: count, dtype: int64\n",
            "Average age of men: 39.4\n",
            "Percentage with Bachelors degrees: 16.4%\n",
            "Percentage with higher education that earn >50K: 46.5%\n",
            "Percentage without higher education that earn >50K: 17.4%\n",
            "Min work time: 1 hours/week\n",
            "Percentage of rich among those who work fewest hours: 10.0%\n",
            "Country with highest percentage of rich: Iran\n",
            "Highest percentage of rich people in country: 41.9%\n",
            "Top occupations in India: Prof-specialty\n",
            "..........\n",
            "----------------------------------------------------------------------\n",
            "Ran 10 tests in 0.140s\n",
            "\n",
            "OK\n"
          ]
        }
      ]
    }
  ]
}